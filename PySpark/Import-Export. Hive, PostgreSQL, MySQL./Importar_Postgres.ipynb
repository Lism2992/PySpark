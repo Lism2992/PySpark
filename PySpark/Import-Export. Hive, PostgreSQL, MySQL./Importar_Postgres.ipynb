{
 "cells": [
  {
   "cell_type": "code",
   "execution_count": 1,
   "metadata": {},
   "outputs": [],
   "source": [
    "from pyspark.sql import SparkSession\n",
    "\n",
    "spark = SparkSession \\\n",
    "    .builder \\\n",
    "    .appName(\"Python Spark SQL basic example\") \\\n",
    "    .getOrCreate()\n",
    "\n",
    "\n",
    "df = spark.read \\\n",
    "    .format(\"jdbc\") \\\n",
    "    .option(\"url\", \"jdbc:postgresql://localhost:5432/postgres\") \\\n",
    "    .option(\"dbtable\", \"public.customers\") \\\n",
    "    .option(\"user\", \"postgres\") \\\n",
    "    .option(\"password\", \"lmdp2992\") \\\n",
    "    .option(\"driver\", \"org.postgresql.Driver\") \\\n",
    "    .load()"
   ]
  },
  {
   "cell_type": "code",
   "execution_count": 2,
   "metadata": {
    "collapsed": true
   },
   "outputs": [
    {
     "name": "stdout",
     "output_type": "stream",
     "text": [
      "+----------+---------+---------+--------------+----------------+\n",
      "|customerid|firstname|  surname|shipping_state|loyalty_discount|\n",
      "+----------+---------+---------+--------------+----------------+\n",
      "| 100000895|   Hannah|    Terry|      Colorado|            0.08|\n",
      "| 100000034|     Jake|   Wilson|        Montan|             0.0|\n",
      "| 100000475|    Kevin|    James|        Hawaii|            0.09|\n",
      "| 300000702|    Diane|Underwood|      Maryland|            0.03|\n",
      "| 100000181|     Mary|   Watson|      Missouri|            0.08|\n",
      "| 100000274|     Rose|  Russell|         Texas|             0.1|\n",
      "| 200000262|      Zoe| Clarkson|    New Jersey|             0.0|\n",
      "| 400000795|   Amanda|     King|       Florida|             0.1|\n",
      "| 200000043|     Jake|   Morgan|  Rhode Island|            0.02|\n",
      "| 100000255|    Diane|Henderson|        Kansas|             0.1|\n",
      "| 100000045|  Dorothy| Johnston|   Pennsylvani|             0.1|\n",
      "| 200000579|    James|   Glover|        Oregon|            0.03|\n",
      "| 400000769|    Jason|   Walker|      Kentucky|            0.03|\n",
      "| 100000937|    Karen|    White|     Tennessee|            0.09|\n",
      "| 200000349|  Cameron|   Duncan|       Arizona|            0.01|\n",
      "| 200000103|   Nicola|   Powell|      Maryland|            0.02|\n",
      "| 100000452|    Peter|    Quinn|    Washington|            0.07|\n",
      "| 100000311|    Lucas|    Avery|       Vermont|            0.07|\n",
      "| 200000672|   Audrey|     Ince|    New Jersey|            0.08|\n",
      "| 100000877|    Megan|     Reid|        Alaska|            0.03|\n",
      "+----------+---------+---------+--------------+----------------+\n",
      "only showing top 20 rows\n",
      "\n"
     ]
    }
   ],
   "source": [
    "df.show()"
   ]
  },
  {
   "cell_type": "code",
   "execution_count": 6,
   "metadata": {},
   "outputs": [
    {
     "data": {
      "text/plain": [
       "StructType(List(StructField(customerid,StringType,true),StructField(firstname,StringType,true),StructField(surname,StringType,true),StructField(shipping_state,StringType,true),StructField(loyalty_discount,FloatType,true)))"
      ]
     },
     "execution_count": 6,
     "metadata": {},
     "output_type": "execute_result"
    }
   ],
   "source": [
    "df.schema"
   ]
  },
  {
   "cell_type": "code",
   "execution_count": 8,
   "metadata": {},
   "outputs": [],
   "source": [
    "from pyspark.sql import functions as F\n",
    "from pyspark.sql.functions import col, countDistinct"
   ]
  },
  {
   "cell_type": "code",
   "execution_count": 10,
   "metadata": {},
   "outputs": [],
   "source": [
    "\n",
    "\n",
    "df2 = df.select(\"firstname\", \"surname\").where(F.col(\"loyalty_discount\")> 0.03)"
   ]
  },
  {
   "cell_type": "code",
   "execution_count": 11,
   "metadata": {
    "collapsed": true
   },
   "outputs": [
    {
     "name": "stdout",
     "output_type": "stream",
     "text": [
      "+---------+---------+\n",
      "|firstname|  surname|\n",
      "+---------+---------+\n",
      "|   Hannah|    Terry|\n",
      "|    Kevin|    James|\n",
      "|     Mary|   Watson|\n",
      "|     Rose|  Russell|\n",
      "|   Amanda|     King|\n",
      "|    Diane|Henderson|\n",
      "|  Dorothy| Johnston|\n",
      "|    Karen|    White|\n",
      "|    Peter|    Quinn|\n",
      "|    Lucas|    Avery|\n",
      "|   Audrey|     Ince|\n",
      "|   Angela|  Roberts|\n",
      "|     Luke|   Mathis|\n",
      "|     Sean|  Burgess|\n",
      "|   Victor|   Wilson|\n",
      "|      Amy|    Welch|\n",
      "|      Dan| Johnston|\n",
      "|  Carolyn|Robertson|\n",
      "|Alexander|     Ince|\n",
      "|      Dan| Metcalfe|\n",
      "+---------+---------+\n",
      "only showing top 20 rows\n",
      "\n"
     ]
    }
   ],
   "source": [
    "df2.show()"
   ]
  },
  {
   "cell_type": "code",
   "execution_count": 13,
   "metadata": {},
   "outputs": [],
   "source": [
    "df2.write\\\n",
    " .format(\"jdbc\")\\\n",
    " .option(\"url\", \"jdbc:postgresql://localhost:5432/postgres\")\\\n",
    " .option(\"dbtable\", \"public.customers_mod\")\\\n",
    " .option(\"user\", \"postgres\")\\\n",
    " .option(\"password\", \"lmdp2992\")\\\n",
    " .option(\"driver\", \"org.postgresql.Driver\") \\\n",
    " .save()"
   ]
  },
  {
   "cell_type": "code",
   "execution_count": 15,
   "metadata": {},
   "outputs": [],
   "source": [
    "mnm_df = (spark.read.format(\"csv\")\n",
    "          .option(\"header\", \"true\")\n",
    "          .option(\"inferSchema\", \"true\")\n",
    "          .load(\"C:\\Datasets\\mnm_dataset.csv\"))"
   ]
  },
  {
   "cell_type": "code",
   "execution_count": 16,
   "metadata": {
    "collapsed": true
   },
   "outputs": [
    {
     "name": "stdout",
     "output_type": "stream",
     "text": [
      "+-----+------+-----+\n",
      "|State| Color|Count|\n",
      "+-----+------+-----+\n",
      "|   TX|   Red|   20|\n",
      "|   NV|  Blue|   66|\n",
      "|   CO|  Blue|   79|\n",
      "|   OR|  Blue|   71|\n",
      "|   WA|Yellow|   93|\n",
      "|   WY|  Blue|   16|\n",
      "|   CA|Yellow|   53|\n",
      "|   WA| Green|   60|\n",
      "|   OR| Green|   71|\n",
      "|   TX| Green|   68|\n",
      "|   NV| Green|   59|\n",
      "|   AZ| Brown|   95|\n",
      "|   WA|Yellow|   20|\n",
      "|   AZ|  Blue|   75|\n",
      "|   OR| Brown|   72|\n",
      "|   NV|   Red|   98|\n",
      "|   WY|Orange|   45|\n",
      "|   CO|  Blue|   52|\n",
      "|   TX| Brown|   94|\n",
      "|   CO|   Red|   82|\n",
      "+-----+------+-----+\n",
      "only showing top 20 rows\n",
      "\n"
     ]
    }
   ],
   "source": [
    "mnm_df.show()"
   ]
  },
  {
   "cell_type": "code",
   "execution_count": 17,
   "metadata": {},
   "outputs": [],
   "source": [
    "mnm_df.write\\\n",
    " .format(\"jdbc\")\\\n",
    " .option(\"url\", \"jdbc:postgresql://localhost:5432/postgres\")\\\n",
    " .option(\"dbtable\", \"public.mnm\")\\\n",
    " .option(\"user\", \"postgres\")\\\n",
    " .option(\"password\", \"lmdp2992\")\\\n",
    " .option(\"driver\", \"org.postgresql.Driver\") \\\n",
    " .save()"
   ]
  }
 ],
 "metadata": {
  "kernelspec": {
   "display_name": "Python 3",
   "language": "python",
   "name": "python3"
  },
  "language_info": {
   "codemirror_mode": {
    "name": "ipython",
    "version": 3
   },
   "file_extension": ".py",
   "mimetype": "text/x-python",
   "name": "python",
   "nbconvert_exporter": "python",
   "pygments_lexer": "ipython3",
   "version": "3.8.5"
  }
 },
 "nbformat": 4,
 "nbformat_minor": 4
}
