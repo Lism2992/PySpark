{
 "cells": [
  {
   "cell_type": "code",
   "execution_count": 1,
   "metadata": {},
   "outputs": [],
   "source": [
    "from pyspark.sql import SparkSession\n",
    "\n",
    "spark = SparkSession \\\n",
    "    .builder \\\n",
    "    .appName(\"Employees MySQL\") \\\n",
    "    .getOrCreate()"
   ]
  },
  {
   "cell_type": "code",
   "execution_count": 2,
   "metadata": {},
   "outputs": [],
   "source": [
    "employeeDF = (spark\n",
    " .read\n",
    " .format(\"jdbc\")\n",
    " .option(\"url\", \"jdbc:mysql://localhost:3306/employees\")\n",
    " .option(\"driver\", \"com.mysql.jdbc.Driver\")\n",
    " .option(\"dbtable\", \"employees\")\n",
    " .option(\"user\", \"root\")\n",
    " .option(\"password\", \"root\")\n",
    " .load())"
   ]
  },
  {
   "cell_type": "code",
   "execution_count": 3,
   "metadata": {},
   "outputs": [],
   "source": [
    "titlesDF = (spark\n",
    " .read\n",
    " .format(\"jdbc\")\n",
    " .option(\"url\", \"jdbc:mysql://localhost:3306/employees\")\n",
    " .option(\"driver\", \"com.mysql.jdbc.Driver\")\n",
    " .option(\"dbtable\", \"titles\")\n",
    " .option(\"user\", \"root\")\n",
    " .option(\"password\", \"root\")\n",
    " .load())"
   ]
  },
  {
   "cell_type": "code",
   "execution_count": 4,
   "metadata": {},
   "outputs": [],
   "source": [
    "salariesDF = (spark\n",
    " .read\n",
    " .format(\"jdbc\")\n",
    " .option(\"url\", \"jdbc:mysql://localhost:3306/employees\")\n",
    " .option(\"driver\", \"com.mysql.jdbc.Driver\")\n",
    " .option(\"dbtable\", \"salaries\")\n",
    " .option(\"user\", \"root\")\n",
    " .option(\"password\", \"root\")\n",
    " .load())"
   ]
  },
  {
   "cell_type": "code",
   "execution_count": 9,
   "metadata": {},
   "outputs": [
    {
     "data": {
      "text/plain": [
       "['emp_no', 'salary', 'from_date', 'to_date']"
      ]
     },
     "execution_count": 9,
     "metadata": {},
     "output_type": "execute_result"
    }
   ],
   "source": [
    "salariesDF.columns"
   ]
  },
  {
   "cell_type": "code",
   "execution_count": 10,
   "metadata": {},
   "outputs": [
    {
     "data": {
      "text/plain": [
       "['emp_no', 'title', 'from_date', 'to_date']"
      ]
     },
     "execution_count": 10,
     "metadata": {},
     "output_type": "execute_result"
    }
   ],
   "source": [
    "titlesDF.columns"
   ]
  },
  {
   "cell_type": "code",
   "execution_count": 11,
   "metadata": {},
   "outputs": [
    {
     "data": {
      "text/plain": [
       "['emp_no', 'birth_date', 'first_name', 'last_name', 'gender', 'hire_date']"
      ]
     },
     "execution_count": 11,
     "metadata": {},
     "output_type": "execute_result"
    }
   ],
   "source": [
    "employeeDF.columns"
   ]
  },
  {
   "cell_type": "code",
   "execution_count": 13,
   "metadata": {},
   "outputs": [],
   "source": [
    "infoDF = employeeDF\\\n",
    "        .join(titlesDF, employeeDF.emp_no == titlesDF.emp_no, how = \"left\")\\\n",
    "        .join(salariesDF, salariesDF.emp_no == titlesDF.emp_no, how = \"left\")"
   ]
  },
  {
   "cell_type": "code",
   "execution_count": 14,
   "metadata": {},
   "outputs": [
    {
     "data": {
      "text/plain": [
       "['emp_no',\n",
       " 'birth_date',\n",
       " 'first_name',\n",
       " 'last_name',\n",
       " 'gender',\n",
       " 'hire_date',\n",
       " 'emp_no',\n",
       " 'title',\n",
       " 'from_date',\n",
       " 'to_date',\n",
       " 'emp_no',\n",
       " 'salary',\n",
       " 'from_date',\n",
       " 'to_date']"
      ]
     },
     "execution_count": 14,
     "metadata": {},
     "output_type": "execute_result"
    }
   ],
   "source": [
    "infoDF.columns"
   ]
  },
  {
   "cell_type": "code",
   "execution_count": 25,
   "metadata": {},
   "outputs": [],
   "source": [
    "infobuenaDF = employeeDF\\\n",
    "        .join(titlesDF.withColumnRenamed(\"to_date\", \"title_to_date\")\\\n",
    "                      .withColumnRenamed(\"from_date\", \"title_from_date\"), \"emp_no\", how = \"left\")\\\n",
    "        .join(salariesDF.withColumnRenamed(\"to_date\", \"salary_to_date\")\\\n",
    "                        .withColumnRenamed(\"from_date\", \"salary_from_date\"), \"emp_no\", how = \"left\")"
   ]
  },
  {
   "cell_type": "code",
   "execution_count": 26,
   "metadata": {},
   "outputs": [
    {
     "name": "stdout",
     "output_type": "stream",
     "text": [
      "+------+----------+----------+---------+------+----------+----------------+---------------+-------------+------+----------------+--------------+\n",
      "|emp_no|birth_date|first_name|last_name|gender| hire_date|           title|title_from_date|title_to_date|salary|salary_from_date|salary_to_date|\n",
      "+------+----------+----------+---------+------+----------+----------------+---------------+-------------+------+----------------+--------------+\n",
      "| 10206|1960-09-19|  Alassane|  Iwayama|     F|1988-04-19|Technique Leader|     1988-04-19|   9999-01-01| 40000|      1988-04-19|    1989-04-19|\n",
      "| 10206|1960-09-19|  Alassane|  Iwayama|     F|1988-04-19|Technique Leader|     1988-04-19|   9999-01-01| 43519|      1989-04-19|    1990-04-19|\n",
      "| 10206|1960-09-19|  Alassane|  Iwayama|     F|1988-04-19|Technique Leader|     1988-04-19|   9999-01-01| 46265|      1990-04-19|    1991-04-19|\n",
      "| 10206|1960-09-19|  Alassane|  Iwayama|     F|1988-04-19|Technique Leader|     1988-04-19|   9999-01-01| 46865|      1991-04-19|    1992-04-18|\n",
      "| 10206|1960-09-19|  Alassane|  Iwayama|     F|1988-04-19|Technique Leader|     1988-04-19|   9999-01-01| 47837|      1992-04-18|    1993-04-18|\n",
      "| 10206|1960-09-19|  Alassane|  Iwayama|     F|1988-04-19|Technique Leader|     1988-04-19|   9999-01-01| 52042|      1993-04-18|    1994-04-18|\n",
      "| 10206|1960-09-19|  Alassane|  Iwayama|     F|1988-04-19|Technique Leader|     1988-04-19|   9999-01-01| 52370|      1994-04-18|    1995-04-18|\n",
      "| 10206|1960-09-19|  Alassane|  Iwayama|     F|1988-04-19|Technique Leader|     1988-04-19|   9999-01-01| 53202|      1995-04-18|    1996-04-17|\n",
      "| 10206|1960-09-19|  Alassane|  Iwayama|     F|1988-04-19|Technique Leader|     1988-04-19|   9999-01-01| 56087|      1996-04-17|    1997-04-17|\n",
      "| 10206|1960-09-19|  Alassane|  Iwayama|     F|1988-04-19|Technique Leader|     1988-04-19|   9999-01-01| 59252|      1997-04-17|    1998-04-17|\n",
      "| 10206|1960-09-19|  Alassane|  Iwayama|     F|1988-04-19|Technique Leader|     1988-04-19|   9999-01-01| 62716|      1998-04-17|    1999-04-17|\n",
      "| 10206|1960-09-19|  Alassane|  Iwayama|     F|1988-04-19|Technique Leader|     1988-04-19|   9999-01-01| 67137|      1999-04-17|    2000-04-16|\n",
      "| 10206|1960-09-19|  Alassane|  Iwayama|     F|1988-04-19|Technique Leader|     1988-04-19|   9999-01-01| 67944|      2000-04-16|    2001-04-16|\n",
      "| 10206|1960-09-19|  Alassane|  Iwayama|     F|1988-04-19|Technique Leader|     1988-04-19|   9999-01-01| 67588|      2001-04-16|    2002-04-16|\n",
      "| 10206|1960-09-19|  Alassane|  Iwayama|     F|1988-04-19|Technique Leader|     1988-04-19|   9999-01-01| 71052|      2002-04-16|    9999-01-01|\n",
      "| 10362|1963-09-16|   Shalesh|  dAstous|     M|1988-08-24|    Senior Staff|     1990-11-02|   1997-07-16| 40000|      1990-11-02|    1991-11-02|\n",
      "| 10362|1963-09-16|   Shalesh|  dAstous|     M|1988-08-24|    Senior Staff|     1990-11-02|   1997-07-16| 44091|      1991-11-02|    1992-11-01|\n",
      "| 10362|1963-09-16|   Shalesh|  dAstous|     M|1988-08-24|    Senior Staff|     1990-11-02|   1997-07-16| 45546|      1992-11-01|    1993-11-01|\n",
      "| 10362|1963-09-16|   Shalesh|  dAstous|     M|1988-08-24|    Senior Staff|     1990-11-02|   1997-07-16| 49296|      1993-11-01|    1994-11-01|\n",
      "| 10362|1963-09-16|   Shalesh|  dAstous|     M|1988-08-24|    Senior Staff|     1990-11-02|   1997-07-16| 48889|      1994-11-01|    1995-11-01|\n",
      "+------+----------+----------+---------+------+----------+----------------+---------------+-------------+------+----------------+--------------+\n",
      "only showing top 20 rows\n",
      "\n"
     ]
    }
   ],
   "source": [
    "infobuenaDF.show()"
   ]
  }
 ],
 "metadata": {
  "kernelspec": {
   "display_name": "Python 3",
   "language": "python",
   "name": "python3"
  },
  "language_info": {
   "codemirror_mode": {
    "name": "ipython",
    "version": 3
   },
   "file_extension": ".py",
   "mimetype": "text/x-python",
   "name": "python",
   "nbconvert_exporter": "python",
   "pygments_lexer": "ipython3",
   "version": "3.8.5"
  }
 },
 "nbformat": 4,
 "nbformat_minor": 4
}
